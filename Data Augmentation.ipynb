{
 "cells": [
  {
   "cell_type": "markdown",
   "metadata": {},
   "source": [
    "# Data Augmentation"
   ]
  },
  {
   "cell_type": "code",
   "execution_count": null,
   "metadata": {},
   "outputs": [],
   "source": [
    "import os\n",
    "import numpy as np\n",
    "import PIL.Image, ImageEnchance\n",
    "import tensorflow as tf\n",
    "from tensorflow.keras.preprocessing.image import ImageDataGenerator"
   ]
  },
  {
   "cell_type": "code",
   "execution_count": null,
   "metadata": {},
   "outputs": [],
   "source": [
    "# Set your directories and classes\n",
    "DATA_DIR = r\"D:\\Comparative-Study-of-CNN-Architectures-for-Leukemia\\dataset\\Original\"\n",
    "CLASSES = ['Benign', 'Early', 'Pre', 'Pro']\n",
    "BRIGHTNESS_FACTOR = 1.7"
   ]
  },
  {
   "cell_type": "code",
   "execution_count": null,
   "metadata": {},
   "outputs": [],
   "source": [
    "# Image dimensions\n",
    "img_height = 224\n",
    "img_width = 224\n",
    "\n",
    "# Function to count images in each class\n",
    "def count_images(directory):\n",
    "    return sum([len(files) for r, d, files in os.walk(directory)])\n",
    "\n",
    "# Count images in each class\n",
    "class_counts = {cls: count_images(os.path.join(DATA_DIR, cls)) for cls in CLASSES}\n",
    "print(\"Original class counts:\", class_counts)"
   ]
  },
  {
   "cell_type": "code",
   "execution_count": null,
   "metadata": {},
   "outputs": [
    {
     "name": "stdout",
     "output_type": "stream",
     "text": [
      "New image counts:\n",
      "Benign: 1000\n",
      "Early: 1000\n",
      "Pre: 1000\n",
      "Pro: 1000\n"
     ]
    }
   ],
   "source": [
    "# Data augmentation function\n",
    "def augment_images(image_paths, target_dir, num_augmented):\n",
    "    augmented_count = 0\n",
    "    for image_path in image_paths:\n",
    "        img = np.expand_dims(np.array(PIL.Image.open(image_path)), 0)\n",
    "        aug_iter = datagen.flow(img, batch_size=1)\n",
    "        for _ in range(num_augmented // len(image_paths) + 1):\n",
    "            aug_img = next(aug_iter)[0].astype(np.uint8)\n",
    "            PIL.Image.fromarray(aug_img).save(os.path.join(target_dir, f'aug_{augmented_count}.jpg'))\n",
    "            augmented_count += 1\n",
    "            if augmented_count >= num_augmented:\n",
    "                break\n",
    "        if augmented_count >= num_augmented:\n",
    "            break\n",
    "\n",
    "# Data augmentation settings\n",
    "datagen = ImageDataGenerator(\n",
    "    rotation_range=20,\n",
    "    width_shift_range=0.2,\n",
    "    height_shift_range=0.2,\n",
    "    horizontal_flip=True,\n",
    "    vertical_flip=True,\n",
    "    fill_mode='nearest'\n",
    ")\n",
    "\n",
    "# Directories and images for each class\n",
    "benign_dir = os.path.join(DATA_DIR, 'Benign')\n",
    "benign_images = [os.path.join(benign_dir, f) for f in os.listdir(benign_dir) if f.endswith('.jpg') or f.endswith('.png')]\n",
    "\n",
    "early_dir = os.path.join(DATA_DIR, 'Early')\n",
    "early_images = [os.path.join(early_dir, f) for f in os.listdir(early_dir) if f.endswith('.jpg') or f.endswith('.png')]\n",
    "\n",
    "pre_dir = os.path.join(DATA_DIR, 'Pre')\n",
    "pre_images = [os.path.join(pre_dir, f) for f in os.listdir(pre_dir) if f.endswith('.jpg') or f.endswith('.png')]\n",
    "\n",
    "pro_dir = os.path.join(DATA_DIR, 'Pro')\n",
    "pro_images = [os.path.join(pro_dir, f) for f in os.listdir(pro_dir) if f.endswith('.jpg') or f.endswith('.png')]\n",
    "\n",
    "# Calculate how many augmented images we need for each class\n",
    "num_augmented_benign = 1000 - len(benign_images)\n",
    "num_augmented_early = 1000 - len(early_images)\n",
    "num_augmented_pre = 1000 - len(pre_images)\n",
    "num_augmented_pro = 1000 - len(pro_images)\n",
    "\n",
    "# Augment images for each class\n",
    "augment_images(benign_images, benign_dir, num_augmented_benign)\n",
    "augment_images(early_images, early_dir, num_augmented_early)\n",
    "augment_images(pre_images, pre_dir, num_augmented_pre)\n",
    "augment_images(pro_images, pro_dir, num_augmented_pro)\n",
    "\n",
    "print(\"New image counts:\")\n",
    "print(f\"Benign: {count_images(benign_dir)}\")\n",
    "print(f\"Early: {count_images(early_dir)}\")\n",
    "print(f\"Pre: {count_images(pre_dir)}\")\n",
    "print(f\"Pro: {count_images(pro_dir)}\")"
   ]
  }
 ],
 "metadata": {
  "language_info": {
   "name": "python"
  }
 },
 "nbformat": 4,
 "nbformat_minor": 2
}
